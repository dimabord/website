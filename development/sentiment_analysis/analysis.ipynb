{
 "cells": [
  {
   "cell_type": "code",
   "execution_count": 1,
   "metadata": {},
   "outputs": [
    {
     "name": "stderr",
     "output_type": "stream",
     "text": [
      "[nltk_data] Downloading package movie_reviews to\n",
      "[nltk_data]     /Users/dmitrijbordugov/nltk_data...\n",
      "[nltk_data]   Package movie_reviews is already up-to-date!\n"
     ]
    }
   ],
   "source": [
    "from sklearn.feature_extraction.text import CountVectorizer, TfidfVectorizer\n",
    "from sklearn.pipeline import Pipeline\n",
    "from sklearn.linear_model import LogisticRegression, SGDClassifier\n",
    "from sklearn.svm import LinearSVC\n",
    "from sklearn.model_selection import GridSearchCV\n",
    "from clfswitcher import ClfSwitcher\n",
    "from transformer import Transformer\n",
    "import pickle\n",
    "import nltk\n",
    "reviews = nltk.download('movie_reviews')\n",
    "#from nltk.corpus import movie_reviews"
   ]
  },
  {
   "cell_type": "code",
   "execution_count": 2,
   "metadata": {},
   "outputs": [],
   "source": [
    "from nltk.corpus import movie_reviews"
   ]
  },
  {
   "cell_type": "markdown",
   "metadata": {},
   "source": [
    "Generate data"
   ]
  },
  {
   "cell_type": "code",
   "execution_count": 3,
   "metadata": {},
   "outputs": [],
   "source": [
    "negids = movie_reviews.fileids('neg')\n",
    "posids = movie_reviews.fileids('pos')\n",
    "\n",
    "negfeats = [movie_reviews.words(fileids=[f]) for f in negids]\n",
    "posfeats = [movie_reviews.words(fileids=[f]) for f in posids]\n",
    "\n",
    "reviews = posfeats + negfeats\n",
    "ispositive = [1]*len(posfeats) + [0]*len(negfeats)\n",
    "\n",
    "texts = [None]*len(reviews)\n",
    "for i, review in enumerate(reviews):\n",
    "    texts[i]=''\n",
    "    for word in review:\n",
    "        texts[i] += ' ' + word"
   ]
  },
  {
   "cell_type": "markdown",
   "metadata": {},
   "source": [
    "Describe pipeline and find best model with GridSearch"
   ]
  },
  {
   "cell_type": "code",
   "execution_count": 4,
   "metadata": {},
   "outputs": [],
   "source": [
    "pipeline = Pipeline([\n",
    "    ('vect', Transformer()),\n",
    "    ('clf', ClfSwitcher()),\n",
    "])"
   ]
  },
  {
   "cell_type": "code",
   "execution_count": 5,
   "metadata": {},
   "outputs": [
    {
     "name": "stderr",
     "output_type": "stream",
     "text": [
      "/Users/dmitrijbordugov/anaconda3/lib/python3.7/site-packages/sklearn/linear_model/logistic.py:432: FutureWarning: Default solver will be changed to 'lbfgs' in 0.22. Specify a solver to silence this warning.\n",
      "  FutureWarning)\n",
      "/Users/dmitrijbordugov/anaconda3/lib/python3.7/site-packages/sklearn/linear_model/logistic.py:432: FutureWarning: Default solver will be changed to 'lbfgs' in 0.22. Specify a solver to silence this warning.\n",
      "  FutureWarning)\n",
      "/Users/dmitrijbordugov/anaconda3/lib/python3.7/site-packages/sklearn/linear_model/logistic.py:432: FutureWarning: Default solver will be changed to 'lbfgs' in 0.22. Specify a solver to silence this warning.\n",
      "  FutureWarning)\n",
      "/Users/dmitrijbordugov/anaconda3/lib/python3.7/site-packages/sklearn/linear_model/logistic.py:432: FutureWarning: Default solver will be changed to 'lbfgs' in 0.22. Specify a solver to silence this warning.\n",
      "  FutureWarning)\n",
      "/Users/dmitrijbordugov/anaconda3/lib/python3.7/site-packages/sklearn/linear_model/logistic.py:432: FutureWarning: Default solver will be changed to 'lbfgs' in 0.22. Specify a solver to silence this warning.\n",
      "  FutureWarning)\n",
      "/Users/dmitrijbordugov/anaconda3/lib/python3.7/site-packages/sklearn/linear_model/logistic.py:432: FutureWarning: Default solver will be changed to 'lbfgs' in 0.22. Specify a solver to silence this warning.\n",
      "  FutureWarning)\n",
      "/Users/dmitrijbordugov/anaconda3/lib/python3.7/site-packages/sklearn/model_selection/_search.py:813: DeprecationWarning: The default of the `iid` parameter will change from True to False in version 0.22 and will be removed in 0.24. This will change numeric results when test-set sizes are unequal.\n",
      "  DeprecationWarning)\n"
     ]
    },
    {
     "data": {
      "text/plain": [
       "GridSearchCV(cv=3, error_score='raise-deprecating',\n",
       "             estimator=Pipeline(memory=None,\n",
       "                                steps=[('vect',\n",
       "                                        Transformer(vectorizer=TfidfVectorizer(analyzer='word',\n",
       "                                                                               binary=False,\n",
       "                                                                               decode_error='strict',\n",
       "                                                                               dtype=<class 'numpy.float64'>,\n",
       "                                                                               encoding='utf-8',\n",
       "                                                                               input='content',\n",
       "                                                                               lowercase=True,\n",
       "                                                                               max_df=1.0,\n",
       "                                                                               max_features=None,\n",
       "                                                                               min_df=1,\n",
       "                                                                               ngram_range=(1,\n",
       "                                                                                            1),\n",
       "                                                                               norm='l2',\n",
       "                                                                               preprocessor=None,\n",
       "                                                                               smo...\n",
       "                                                               decode_error='strict',\n",
       "                                                               dtype=<class 'numpy.int64'>,\n",
       "                                                               encoding='utf-8',\n",
       "                                                               input='content',\n",
       "                                                               lowercase=True,\n",
       "                                                               max_df=1.0,\n",
       "                                                               max_features=None,\n",
       "                                                               min_df=1,\n",
       "                                                               ngram_range=(1,\n",
       "                                                                            1),\n",
       "                                                               preprocessor=None,\n",
       "                                                               stop_words=None,\n",
       "                                                               strip_accents=None,\n",
       "                                                               token_pattern='(?u)\\\\b\\\\w\\\\w+\\\\b',\n",
       "                                                               tokenizer=None,\n",
       "                                                               vocabulary=None)]}],\n",
       "             pre_dispatch='2*n_jobs', refit=True, return_train_score=False,\n",
       "             scoring='accuracy', verbose=0)"
      ]
     },
     "execution_count": 5,
     "metadata": {},
     "output_type": "execute_result"
    }
   ],
   "source": [
    "parameters = [\n",
    "    {\n",
    "        'vect__vectorizer': [TfidfVectorizer(), CountVectorizer()],\n",
    "        'clf__estimator': [SGDClassifier(loss='log'), LogisticRegression()],\n",
    "        \n",
    "    },]\n",
    "    \n",
    "\n",
    "gscv = GridSearchCV(pipeline, parameters, cv=3, verbose=0, scoring='accuracy')\n",
    "gscv.fit(texts, ispositive)"
   ]
  },
  {
   "cell_type": "code",
   "execution_count": 6,
   "metadata": {},
   "outputs": [
    {
     "data": {
      "text/plain": [
       "0.6875"
      ]
     },
     "execution_count": 6,
     "metadata": {},
     "output_type": "execute_result"
    }
   ],
   "source": [
    "gscv.best_score_"
   ]
  },
  {
   "cell_type": "code",
   "execution_count": 7,
   "metadata": {},
   "outputs": [
    {
     "data": {
      "text/html": [
       "<div>\n",
       "<style scoped>\n",
       "    .dataframe tbody tr th:only-of-type {\n",
       "        vertical-align: middle;\n",
       "    }\n",
       "\n",
       "    .dataframe tbody tr th {\n",
       "        vertical-align: top;\n",
       "    }\n",
       "\n",
       "    .dataframe thead th {\n",
       "        text-align: right;\n",
       "    }\n",
       "</style>\n",
       "<table border=\"1\" class=\"dataframe\">\n",
       "  <thead>\n",
       "    <tr style=\"text-align: right;\">\n",
       "      <th></th>\n",
       "      <th>mean_fit_time</th>\n",
       "      <th>std_fit_time</th>\n",
       "      <th>mean_score_time</th>\n",
       "      <th>std_score_time</th>\n",
       "      <th>param_clf__estimator</th>\n",
       "      <th>param_vect__vectorizer</th>\n",
       "      <th>params</th>\n",
       "      <th>split0_test_score</th>\n",
       "      <th>split1_test_score</th>\n",
       "      <th>split2_test_score</th>\n",
       "      <th>mean_test_score</th>\n",
       "      <th>std_test_score</th>\n",
       "      <th>rank_test_score</th>\n",
       "    </tr>\n",
       "  </thead>\n",
       "  <tbody>\n",
       "    <tr>\n",
       "      <th>0</th>\n",
       "      <td>1.804118</td>\n",
       "      <td>0.133770</td>\n",
       "      <td>0.402492</td>\n",
       "      <td>0.023095</td>\n",
       "      <td>SGDClassifier(alpha=0.0001, average=False, cla...</td>\n",
       "      <td>TfidfVectorizer(analyzer='word', binary=False,...</td>\n",
       "      <td>{'clf__estimator': SGDClassifier(alpha=0.0001,...</td>\n",
       "      <td>0.373313</td>\n",
       "      <td>0.839580</td>\n",
       "      <td>0.276276</td>\n",
       "      <td>0.4965</td>\n",
       "      <td>0.245897</td>\n",
       "      <td>3</td>\n",
       "    </tr>\n",
       "    <tr>\n",
       "      <th>1</th>\n",
       "      <td>1.735014</td>\n",
       "      <td>0.154325</td>\n",
       "      <td>0.394176</td>\n",
       "      <td>0.029648</td>\n",
       "      <td>SGDClassifier(alpha=0.0001, average=False, cla...</td>\n",
       "      <td>CountVectorizer(analyzer='word', binary=False,...</td>\n",
       "      <td>{'clf__estimator': SGDClassifier(alpha=0.0001,...</td>\n",
       "      <td>0.617691</td>\n",
       "      <td>0.836582</td>\n",
       "      <td>0.608108</td>\n",
       "      <td>0.6875</td>\n",
       "      <td>0.105529</td>\n",
       "      <td>1</td>\n",
       "    </tr>\n",
       "    <tr>\n",
       "      <th>2</th>\n",
       "      <td>1.831332</td>\n",
       "      <td>0.208126</td>\n",
       "      <td>0.428848</td>\n",
       "      <td>0.025428</td>\n",
       "      <td>LogisticRegression(C=1.0, class_weight=None, d...</td>\n",
       "      <td>TfidfVectorizer(analyzer='word', binary=False,...</td>\n",
       "      <td>{'clf__estimator': LogisticRegression(C=1.0, c...</td>\n",
       "      <td>0.019490</td>\n",
       "      <td>0.809595</td>\n",
       "      <td>0.016517</td>\n",
       "      <td>0.2820</td>\n",
       "      <td>0.373208</td>\n",
       "      <td>4</td>\n",
       "    </tr>\n",
       "    <tr>\n",
       "      <th>3</th>\n",
       "      <td>1.805291</td>\n",
       "      <td>0.202477</td>\n",
       "      <td>0.406102</td>\n",
       "      <td>0.037881</td>\n",
       "      <td>LogisticRegression(C=1.0, class_weight=None, d...</td>\n",
       "      <td>CountVectorizer(analyzer='word', binary=False,...</td>\n",
       "      <td>{'clf__estimator': LogisticRegression(C=1.0, c...</td>\n",
       "      <td>0.595202</td>\n",
       "      <td>0.824588</td>\n",
       "      <td>0.630631</td>\n",
       "      <td>0.6835</td>\n",
       "      <td>0.100844</td>\n",
       "      <td>2</td>\n",
       "    </tr>\n",
       "  </tbody>\n",
       "</table>\n",
       "</div>"
      ],
      "text/plain": [
       "   mean_fit_time  std_fit_time  mean_score_time  std_score_time  \\\n",
       "0       1.804118      0.133770         0.402492        0.023095   \n",
       "1       1.735014      0.154325         0.394176        0.029648   \n",
       "2       1.831332      0.208126         0.428848        0.025428   \n",
       "3       1.805291      0.202477         0.406102        0.037881   \n",
       "\n",
       "                                param_clf__estimator  \\\n",
       "0  SGDClassifier(alpha=0.0001, average=False, cla...   \n",
       "1  SGDClassifier(alpha=0.0001, average=False, cla...   \n",
       "2  LogisticRegression(C=1.0, class_weight=None, d...   \n",
       "3  LogisticRegression(C=1.0, class_weight=None, d...   \n",
       "\n",
       "                              param_vect__vectorizer  \\\n",
       "0  TfidfVectorizer(analyzer='word', binary=False,...   \n",
       "1  CountVectorizer(analyzer='word', binary=False,...   \n",
       "2  TfidfVectorizer(analyzer='word', binary=False,...   \n",
       "3  CountVectorizer(analyzer='word', binary=False,...   \n",
       "\n",
       "                                              params  split0_test_score  \\\n",
       "0  {'clf__estimator': SGDClassifier(alpha=0.0001,...           0.373313   \n",
       "1  {'clf__estimator': SGDClassifier(alpha=0.0001,...           0.617691   \n",
       "2  {'clf__estimator': LogisticRegression(C=1.0, c...           0.019490   \n",
       "3  {'clf__estimator': LogisticRegression(C=1.0, c...           0.595202   \n",
       "\n",
       "   split1_test_score  split2_test_score  mean_test_score  std_test_score  \\\n",
       "0           0.839580           0.276276           0.4965        0.245897   \n",
       "1           0.836582           0.608108           0.6875        0.105529   \n",
       "2           0.809595           0.016517           0.2820        0.373208   \n",
       "3           0.824588           0.630631           0.6835        0.100844   \n",
       "\n",
       "   rank_test_score  \n",
       "0                3  \n",
       "1                1  \n",
       "2                4  \n",
       "3                2  "
      ]
     },
     "execution_count": 7,
     "metadata": {},
     "output_type": "execute_result"
    }
   ],
   "source": [
    "import pandas as pd\n",
    "results=pd.DataFrame(gscv.cv_results_)\n",
    "results"
   ]
  },
  {
   "cell_type": "code",
   "execution_count": 25,
   "metadata": {},
   "outputs": [
    {
     "name": "stdout",
     "output_type": "stream",
     "text": [
      "0.83\n",
      "0.69\n"
     ]
    }
   ],
   "source": [
    "import random\n",
    "from sklearn.model_selection import StratifiedKFold\n",
    "\n",
    "#cv = StratifiedKFold(n_splits=3, random_state=42)\n",
    "\n",
    "from sklearn.model_selection import cross_val_score\n",
    "clf_pipeline = Pipeline(\n",
    "            [(\"vectorizer\", CountVectorizer()),\n",
    "            (\"classifier\", SGDClassifier())]\n",
    "        )\n",
    "print(round(cross_val_score(clf_pipeline, texts, ispositive, cv=3, scoring='accuracy').mean(), 2))\n",
    "print(round(cross_val_score(gscv.best_estimator_, texts, ispositive, cv=3, scoring='accuracy').mean(), 2))"
   ]
  },
  {
   "cell_type": "code",
   "execution_count": 24,
   "metadata": {},
   "outputs": [
    {
     "data": {
      "text/plain": [
       "Pipeline(memory=None,\n",
       "         steps=[('vect',\n",
       "                 Transformer(vectorizer=CountVectorizer(analyzer='word',\n",
       "                                                        binary=False,\n",
       "                                                        decode_error='strict',\n",
       "                                                        dtype=<class 'numpy.int64'>,\n",
       "                                                        encoding='utf-8',\n",
       "                                                        input='content',\n",
       "                                                        lowercase=True,\n",
       "                                                        max_df=1.0,\n",
       "                                                        max_features=None,\n",
       "                                                        min_df=1,\n",
       "                                                        ngram_range=(1, 1),\n",
       "                                                        preprocessor=None,\n",
       "                                                        stop_words=None,\n",
       "                                                        strip_accents=None,\n",
       "                                                        token_pattern='(?u)\\\\b\\\\w\\\\w+\\\\b',\n",
       "                                                        tokeni...\n",
       "                 ClfSwitcher(estimator=SGDClassifier(alpha=0.0001,\n",
       "                                                     average=False,\n",
       "                                                     class_weight=None,\n",
       "                                                     early_stopping=False,\n",
       "                                                     epsilon=0.1, eta0=0.0,\n",
       "                                                     fit_intercept=True,\n",
       "                                                     l1_ratio=0.15,\n",
       "                                                     learning_rate='optimal',\n",
       "                                                     loss='log', max_iter=1000,\n",
       "                                                     n_iter_no_change=5,\n",
       "                                                     n_jobs=None, penalty='l2',\n",
       "                                                     power_t=0.5,\n",
       "                                                     random_state=None,\n",
       "                                                     shuffle=True, tol=0.001,\n",
       "                                                     validation_fraction=0.1,\n",
       "                                                     verbose=0,\n",
       "                                                     warm_start=False)))],\n",
       "         verbose=False)"
      ]
     },
     "execution_count": 24,
     "metadata": {},
     "output_type": "execute_result"
    }
   ],
   "source": [
    "gscv.best_estimator_"
   ]
  },
  {
   "cell_type": "code",
   "execution_count": null,
   "metadata": {},
   "outputs": [],
   "source": []
  }
 ],
 "metadata": {
  "kernelspec": {
   "display_name": "Python 3",
   "language": "python",
   "name": "python3"
  },
  "language_info": {
   "codemirror_mode": {
    "name": "ipython",
    "version": 3
   },
   "file_extension": ".py",
   "mimetype": "text/x-python",
   "name": "python",
   "nbconvert_exporter": "python",
   "pygments_lexer": "ipython3",
   "version": "3.7.3"
  }
 },
 "nbformat": 4,
 "nbformat_minor": 4
}
